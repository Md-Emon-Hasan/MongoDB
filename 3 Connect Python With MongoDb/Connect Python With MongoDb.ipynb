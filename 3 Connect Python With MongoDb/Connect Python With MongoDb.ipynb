{
 "cells": [
  {
   "cell_type": "code",
   "execution_count": 15,
   "metadata": {},
   "outputs": [],
   "source": [
    "import pymongo"
   ]
  },
  {
   "cell_type": "code",
   "execution_count": 16,
   "metadata": {},
   "outputs": [],
   "source": [
    "client = pymongo.MongoClient('mongodb://127.0.0.1:27017/')"
   ]
  },
  {
   "cell_type": "code",
   "execution_count": 17,
   "metadata": {},
   "outputs": [],
   "source": [
    "mydb = client['Employee']"
   ]
  },
  {
   "cell_type": "code",
   "execution_count": 18,
   "metadata": {},
   "outputs": [],
   "source": [
    "information=mydb.employeeinformation"
   ]
  },
  {
   "cell_type": "code",
   "execution_count": 19,
   "metadata": {},
   "outputs": [],
   "source": [
    "record = [{\n",
    "    'firstname':'Emon',\n",
    "    'lastname':'Hasan',\n",
    "    'age':28,\n",
    "    'designation':'Software Engineer',\n",
    "    'salary':70000\n",
    "},{\n",
    "    'firstname':'John',\n",
    "    'lastname':'Doe',\n",
    "    'age':32,\n",
    "    'designation':'Data Scientist',\n",
    "    'salary':90000\n",
    "},{\n",
    "    'firstname':'Jane',\n",
    "    'lastname':'Smith',\n",
    "    'age':25,\n",
    "    'designation':'Product Manager',\n",
    "    'salary':85000\n",
    "}]"
   ]
  },
  {
   "cell_type": "code",
   "execution_count": 20,
   "metadata": {},
   "outputs": [
    {
     "data": {
      "text/plain": [
       "InsertManyResult([ObjectId('66b4f03ee1986795312057bf'), ObjectId('66b4f03ee1986795312057c0'), ObjectId('66b4f03ee1986795312057c1')], acknowledged=True)"
      ]
     },
     "execution_count": 20,
     "metadata": {},
     "output_type": "execute_result"
    }
   ],
   "source": [
    "information.insert_many(record)"
   ]
  }
 ],
 "metadata": {
  "kernelspec": {
   "display_name": "Python 3",
   "language": "python",
   "name": "python3"
  },
  "language_info": {
   "codemirror_mode": {
    "name": "ipython",
    "version": 3
   },
   "file_extension": ".py",
   "mimetype": "text/x-python",
   "name": "python",
   "nbconvert_exporter": "python",
   "pygments_lexer": "ipython3",
   "version": "3.11.4"
  },
  "orig_nbformat": 4
 },
 "nbformat": 4,
 "nbformat_minor": 2
}
