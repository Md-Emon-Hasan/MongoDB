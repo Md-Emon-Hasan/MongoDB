{
 "cells": [
  {
   "cell_type": "markdown",
   "metadata": {},
   "source": [
    "## Mongodb Aggregate And Group\n",
    "    avg\n",
    "    sum\n",
    "    project"
   ]
  },
  {
   "cell_type": "code",
   "execution_count": 2,
   "metadata": {},
   "outputs": [
    {
     "data": {
      "text/plain": [
       "InsertManyResult([ObjectId('66b5eaf8468466ee11dbb4aa'), ObjectId('66b5eaf8468466ee11dbb4ab'), ObjectId('66b5eaf8468466ee11dbb4ac'), ObjectId('66b5eaf8468466ee11dbb4ad'), ObjectId('66b5eaf8468466ee11dbb4ae'), ObjectId('66b5eaf8468466ee11dbb4af')], acknowledged=True)"
      ]
     },
     "execution_count": 2,
     "metadata": {},
     "output_type": "execute_result"
    }
   ],
   "source": [
    "from pymongo import MongoClient\n",
    "\n",
    "# creation of object MongoClient\n",
    "client = MongoClient('mongodb://localhost:27017/')\n",
    "\n",
    "# access database\n",
    "mydatabase = client['Students']\n",
    "\n",
    "# acess collection of the database\n",
    "collection = mydatabase['studentscores']\n",
    "data = [\n",
    "    {\"user\":\"Krish\", \"subject\":\"Database\", \"score\":80},\n",
    "    {\"user\":\"Amit\",  \"subject\":\"JavaScript\", \"score\":90},\n",
    "    {\"user\":\"Amit\",  \"title\":\"Database\", \"score\":85},\n",
    "    {\"user\":\"Krish\",  \"title\":\"JavaScript\", \"score\":75},\n",
    "    {\"user\":\"Amit\",  \"title\":\"Data Science\", \"score\":60},\n",
    "    {\"user\":\"Krish\",  \"title\":\"Data Science\", \"score\":95}]\n",
    "\n",
    "collection.insert_many(data)"
   ]
  },
  {
   "cell_type": "code",
   "execution_count": 3,
   "metadata": {},
   "outputs": [
    {
     "name": "stdout",
     "output_type": "stream",
     "text": [
      "{'_id': 'Amit', 'Total Subject': 3}\n",
      "{'_id': 'Krish', 'Total Subject': 3}\n"
     ]
    }
   ],
   "source": [
    "# Find amit and kirsh total subjects\n",
    "agg_result = collection.aggregate(\n",
    "    [{\n",
    "        '$group':\n",
    "            {\n",
    "                '_id':'$user',\n",
    "                'Total Subject':{'$sum':1}\n",
    "            }\n",
    "    }]\n",
    ")\n",
    "\n",
    "for i in agg_result:\n",
    "    print(i)"
   ]
  },
  {
   "cell_type": "code",
   "execution_count": 5,
   "metadata": {},
   "outputs": [
    {
     "name": "stdout",
     "output_type": "stream",
     "text": [
      "{'_id': 'Krish', 'Total Score': 250}\n",
      "{'_id': 'Amit', 'Total Score': 235}\n"
     ]
    }
   ],
   "source": [
    "# calculating the total score based on users\n",
    "agg_result = collection.aggregate(\n",
    "    [{\n",
    "        '$group':\n",
    "            {\n",
    "                '_id':'$user',\n",
    "                'Total Score':{'$sum':'$score'}\n",
    "            }\n",
    "    }]\n",
    ")\n",
    "\n",
    "for i in agg_result:\n",
    "    print(i)"
   ]
  },
  {
   "cell_type": "code",
   "execution_count": 7,
   "metadata": {},
   "outputs": [
    {
     "name": "stdout",
     "output_type": "stream",
     "text": [
      "{'_id': 'Amit', 'Average Score': 78.33333333333333}\n",
      "{'_id': 'Krish', 'Average Score': 83.33333333333333}\n"
     ]
    }
   ],
   "source": [
    "# calcualting the average score based on user\n",
    "agg_result=collection.aggregate([\n",
    "    {\n",
    "        '$group':\n",
    "            {\n",
    "                '_id':'$user',\n",
    "                'Average Score':{'$avg':'$score'}\n",
    "            }\n",
    "    }\n",
    "])\n",
    "\n",
    "for i in agg_result:\n",
    "    print(i)"
   ]
  },
  {
   "cell_type": "code",
   "execution_count": 10,
   "metadata": {},
   "outputs": [],
   "source": [
    "import datetime as datetime"
   ]
  },
  {
   "cell_type": "code",
   "execution_count": 11,
   "metadata": {},
   "outputs": [],
   "source": [
    "### Create a new collection\n",
    "data=[{ \"_id\" : 1, \"item\" : \"abc\", \"price\" : 10, \"quantity\" : 2, \"date\" : datetime.datetime.utcnow()},\n",
    "{ \"_id\" : 2, \"item\" : \"jkl\", \"price\" : 20, \"quantity\" : 1, \"date\" : datetime.datetime.utcnow() },\n",
    "{ \"_id\" : 3, \"item\" : \"xyz\", \"price\" : 5, \"quantity\" : 5, \"date\" : datetime.datetime.utcnow() },\n",
    "{ \"_id\" : 4, \"item\" : \"abc\", \"price\" : 10, \"quantity\" : 10, \"date\" : datetime.datetime.utcnow() },\n",
    "{ \"_id\" : 5, \"item\" : \"xyz\", \"price\" : 5, \"quantity\" : 10, \"date\" :datetime.datetime.utcnow() }]"
   ]
  },
  {
   "cell_type": "code",
   "execution_count": 12,
   "metadata": {},
   "outputs": [
    {
     "data": {
      "text/plain": [
       "[{'_id': 1,\n",
       "  'item': 'abc',\n",
       "  'price': 10,\n",
       "  'quantity': 2,\n",
       "  'date': datetime.datetime(2024, 8, 9, 10, 26, 43, 419433)},\n",
       " {'_id': 2,\n",
       "  'item': 'jkl',\n",
       "  'price': 20,\n",
       "  'quantity': 1,\n",
       "  'date': datetime.datetime(2024, 8, 9, 10, 26, 43, 419433)},\n",
       " {'_id': 3,\n",
       "  'item': 'xyz',\n",
       "  'price': 5,\n",
       "  'quantity': 5,\n",
       "  'date': datetime.datetime(2024, 8, 9, 10, 26, 43, 419433)},\n",
       " {'_id': 4,\n",
       "  'item': 'abc',\n",
       "  'price': 10,\n",
       "  'quantity': 10,\n",
       "  'date': datetime.datetime(2024, 8, 9, 10, 26, 43, 419433)},\n",
       " {'_id': 5,\n",
       "  'item': 'xyz',\n",
       "  'price': 5,\n",
       "  'quantity': 10,\n",
       "  'date': datetime.datetime(2024, 8, 9, 10, 26, 43, 419433)}]"
      ]
     },
     "execution_count": 12,
     "metadata": {},
     "output_type": "execute_result"
    }
   ],
   "source": [
    "data"
   ]
  },
  {
   "cell_type": "code",
   "execution_count": 13,
   "metadata": {},
   "outputs": [
    {
     "data": {
      "text/plain": [
       "InsertManyResult([1, 2, 3, 4, 5], acknowledged=True)"
      ]
     },
     "execution_count": 13,
     "metadata": {},
     "output_type": "execute_result"
    }
   ],
   "source": [
    "mycollection=mydatabase['stores']\n",
    "mycollection.insert_many(data)"
   ]
  },
  {
   "cell_type": "code",
   "execution_count": 14,
   "metadata": {},
   "outputs": [
    {
     "name": "stdout",
     "output_type": "stream",
     "text": [
      "{'_id': 'xyz', 'Average Quantity': 7.5, 'Average Price': 5.0}\n",
      "{'_id': 'abc', 'Average Quantity': 6.0, 'Average Price': 10.0}\n",
      "{'_id': 'jkl', 'Average Quantity': 1.0, 'Average Price': 20.0}\n"
     ]
    }
   ],
   "source": [
    "# calculating the average quatlity And average price\n",
    "agg_result=mycollection.aggregate([\n",
    "    {\n",
    "        '$group':\n",
    "            {\n",
    "                '_id':'$item',\n",
    "                'Average Quantity':{'$avg':'$quantity'},\n",
    "                'Average Price':{'$avg':'$price'}\n",
    "            }\n",
    "    }\n",
    "])\n",
    "\n",
    "for i in agg_result:\n",
    "    print(i)"
   ]
  },
  {
   "cell_type": "code",
   "execution_count": 15,
   "metadata": {},
   "outputs": [],
   "source": [
    "# $Project\n",
    "data=[{\n",
    "    \"_id\" : 1,\n",
    "    \"title\": \"abc123\",\n",
    "    \"isbn\": \"0001122223334\",\n",
    "    \"author\": { \"last\": \"zzz\", \"first\": \"aaa\" },\n",
    "    \"copies\": 5\n",
    "},\n",
    "{\n",
    "    \"_id\" : 2,\n",
    "    \"title\": \"Baked Goods\",\n",
    "    \"isbn\": \"9999999999999\",\n",
    "    \"author\": { \"last\": \"xyz\", \"first\": \"abc\", \"middle\": \"\" },\n",
    "    \"copies\": 2\n",
    "}]"
   ]
  },
  {
   "cell_type": "code",
   "execution_count": 16,
   "metadata": {},
   "outputs": [
    {
     "data": {
      "text/plain": [
       "[{'_id': 1,\n",
       "  'title': 'abc123',\n",
       "  'isbn': '0001122223334',\n",
       "  'author': {'last': 'zzz', 'first': 'aaa'},\n",
       "  'copies': 5},\n",
       " {'_id': 2,\n",
       "  'title': 'Baked Goods',\n",
       "  'isbn': '9999999999999',\n",
       "  'author': {'last': 'xyz', 'first': 'abc', 'middle': ''},\n",
       "  'copies': 2}]"
      ]
     },
     "execution_count": 16,
     "metadata": {},
     "output_type": "execute_result"
    }
   ],
   "source": [
    "data"
   ]
  },
  {
   "cell_type": "code",
   "execution_count": 17,
   "metadata": {},
   "outputs": [],
   "source": [
    "# access collection of the database\n",
    "collection = mydatabase['Books']"
   ]
  },
  {
   "cell_type": "code",
   "execution_count": 18,
   "metadata": {},
   "outputs": [
    {
     "data": {
      "text/plain": [
       "InsertManyResult([1, 2], acknowledged=True)"
      ]
     },
     "execution_count": 18,
     "metadata": {},
     "output_type": "execute_result"
    }
   ],
   "source": [
    "collection.insert_many(data)"
   ]
  },
  {
   "cell_type": "code",
   "execution_count": 19,
   "metadata": {},
   "outputs": [
    {
     "name": "stdout",
     "output_type": "stream",
     "text": [
      "{'_id': 1, 'title': 'abc123', 'isbn': '0001122223334'}\n",
      "{'_id': 2, 'title': 'Baked Goods', 'isbn': '9999999999999'}\n"
     ]
    }
   ],
   "source": [
    "for row in collection.aggregate( [ { \"$project\": { \"title\": 1,\"isbn\":1 } } ] ):\n",
    "    print(row)"
   ]
  }
 ],
 "metadata": {
  "kernelspec": {
   "display_name": "Python 3",
   "language": "python",
   "name": "python3"
  },
  "language_info": {
   "codemirror_mode": {
    "name": "ipython",
    "version": 3
   },
   "file_extension": ".py",
   "mimetype": "text/x-python",
   "name": "python",
   "nbconvert_exporter": "python",
   "pygments_lexer": "ipython3",
   "version": "3.11.4"
  },
  "orig_nbformat": 4
 },
 "nbformat": 4,
 "nbformat_minor": 2
}
